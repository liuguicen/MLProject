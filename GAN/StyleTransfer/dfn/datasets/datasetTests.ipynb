{
 "cells": [
  {
   "cell_type": "code",
   "execution_count": null,
   "metadata": {
    "collapsed": false
   },
   "outputs": [],
   "source": [
    "# Ensure python 3 forward compatibility\n",
    "from __future__ import print_function\n",
    "\n",
    "import os\n",
    "from os import sys, path\n",
    "sys.path.append(os.path.abspath(os.path.join(os.path.dirname('__file__'), '..')))\n",
    "\n",
    "from utils.helperFunctions import visualize_prediction\n",
    "\n",
    "%matplotlib inline\n",
    "import matplotlib.pyplot as plt\n",
    "from IPython import display"
   ]
  },
  {
   "cell_type": "code",
   "execution_count": null,
   "metadata": {
    "collapsed": false
   },
   "outputs": [],
   "source": [
    "import dataset_steerableFilter as dataset\n",
    "\n",
    "dh = dataset.DataHandler()\n",
    "# data = dh.GetBatch()\n",
    "import numpy as np\n",
    "data = dh.GetBatch(thetas=np.ones(32)*np.pi/4, sigma=1, filter_size=9)\n",
    "# import pdb; pdb.set_trace()\n",
    "visualize_prediction(data, fut=None, fig=1, case_id=0)"
   ]
  },
  {
   "cell_type": "code",
   "execution_count": null,
   "metadata": {
    "collapsed": false
   },
   "outputs": [],
   "source": [
    "import dataset_bouncingMnistOriginal as dataset\n",
    "\n",
    "dh = dataset.DataHandler(batch_size = 20, num_frames = 10, num_digits = 2)\n",
    "data = dh.GetBatch()\n",
    "visualize_prediction(data, fut=None, fig=1, case_id=0)"
   ]
  },
  {
   "cell_type": "code",
   "execution_count": null,
   "metadata": {
    "collapsed": false
   },
   "outputs": [],
   "source": [
    "import dataset_highwayDriving as dataset\n",
    "\n",
    "dh = dataset.DataHandler(batch_size = 20, num_frames = 10)\n",
    "data = dh.GetBatch()\n",
    "visualize_prediction(data, fut=None, fig=1, case_id=0)"
   ]
  },
  {
   "cell_type": "code",
   "execution_count": null,
   "metadata": {
    "collapsed": false
   },
   "outputs": [],
   "source": [
    "import dataset_stereoPrediction as dataset\n",
    "\n",
    "dh = dataset.DataHandler(batch_size = 20)\n",
    "data = dh.GetBatch()\n",
    "visualize_prediction(data, fut=None, fig=1, case_id=0)"
   ]
  }
 ],
 "metadata": {
  "kernelspec": {
   "display_name": "Python 2",
   "language": "python",
   "name": "python2"
  },
  "language_info": {
   "codemirror_mode": {
    "name": "ipython",
    "version": 2
   },
   "file_extension": ".py",
   "mimetype": "text/x-python",
   "name": "python",
   "nbconvert_exporter": "python",
   "pygments_lexer": "ipython2",
   "version": "2.7.12"
  }
 },
 "nbformat": 4,
 "nbformat_minor": 0
}
