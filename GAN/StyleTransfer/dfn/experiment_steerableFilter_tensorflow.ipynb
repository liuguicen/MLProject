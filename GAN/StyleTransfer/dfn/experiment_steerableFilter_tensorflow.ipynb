{
 "cells": [
  {
   "cell_type": "code",
   "execution_count": 1,
   "metadata": {
    "collapsed": false
   },
   "outputs": [],
   "source": [
    "import numpy as np\n",
    "import matplotlib.pyplot as plt\n",
    "import tensorflow as tf\n",
    "\n",
    "import datasets.dataset_steerableFilter as dataset"
   ]
  },
  {
   "cell_type": "code",
   "execution_count": 2,
   "metadata": {
    "collapsed": false
   },
   "outputs": [],
   "source": [
    "def get_batch(dh, batch_size, height, width, filter_size):\n",
    "    data = dh.GetBatch(filter_size=filter_size, batch_size_=batch_size, sigma=1.0)\n",
    "    images = data[..., 0].reshape(batch_size, height, width, 1)\n",
    "    thetas = data[:, 0, 0, 0, 1].reshape(batch_size, 1, 1, 1)   \n",
    "    labels = data[..., 2].reshape(batch_size, height, width, 1)\n",
    "    \n",
    "    return images, thetas, labels"
   ]
  },
  {
   "cell_type": "code",
   "execution_count": 3,
   "metadata": {
    "collapsed": false
   },
   "outputs": [],
   "source": [
    "batch_size = 64\n",
    "height = 64\n",
    "width = 64\n",
    "learning_rate = 1e-3\n",
    "\n",
    "filter_size = 9\n",
    "\n",
    "# The inputs\n",
    "images = tf.placeholder(tf.float32, shape=(batch_size, height, width, 1))\n",
    "labels = tf.placeholder(tf.float32, shape=(batch_size, height, width, 1))\n",
    "thetas = tf.placeholder(tf.float32, shape=(batch_size, 1, 1, 1))\n",
    "\n",
    "# The model\n",
    "## filter-generating network\n",
    "output = tf.contrib.layers.fully_connected(thetas/np.pi - 1, 64)\n",
    "output = tf.contrib.layers.fully_connected(output, 128)\n",
    "filters = tf.contrib.layers.fully_connected(output, filter_size**2, activation_fn=None)\n",
    "\n",
    "# The dynamic convolution\n",
    "## im2col on the image: this puts each 9x9 patch of the image into the depth, so we get a [batch_size, height, width, 81] tensor\n",
    "image_patches = tf.extract_image_patches(images, [1, filter_size, filter_size, 1], [1,1,1,1], [1,1,1,1], padding='SAME')\n",
    "## Elementwise multiplication of the (spatially broadcasted) filters with the image patches, followed by a summation.\n",
    "## To do dynamic local filtering instead of dynamic convolution, simply have the filter-generating network\n",
    "## generate a filter tensor of size [batch_size, height, width, 9*9] instead of [batch_size, 1, 1, 9*9], \n",
    "## e.g. with a convolutional network rather than a fully connected one.\n",
    "predictions = tf.reduce_sum(tf.mul(image_patches, filters), 3, keep_dims=True)\n",
    "\n",
    "# The loss\n",
    "loss = tf.reduce_sum(tf.square(predictions - labels), [1,2,3]),  # squared error\n",
    "batch_loss = tf.reduce_mean(loss) # take the mean over the batch\n",
    "\n",
    "# Optimizer\n",
    "optimizer = tf.train.AdamOptimizer(learning_rate=learning_rate)\n",
    "train_op = optimizer.minimize(batch_loss)"
   ]
  },
  {
   "cell_type": "code",
   "execution_count": 4,
   "metadata": {
    "collapsed": false
   },
   "outputs": [
    {
     "name": "stdout",
     "output_type": "stream",
     "text": [
      "(0, 569.09814)\n",
      "(10, 363.83157)\n",
      "(20, 283.77557)\n",
      "(30, 252.36868)\n",
      "(40, 232.57968)\n",
      "(50, 165.32944)\n",
      "(60, 162.06079)\n",
      "(70, 135.36476)\n",
      "(80, 126.46446)\n",
      "(90, 89.392258)\n",
      "(100, 81.802765)\n",
      "(110, 60.621071)\n",
      "(120, 48.846153)\n",
      "(130, 43.490395)\n",
      "(140, 37.495193)\n",
      "(150, 32.054432)\n",
      "(160, 28.275667)\n",
      "(170, 30.006058)\n",
      "(180, 20.337526)\n",
      "(190, 26.67779)\n",
      "(200, 15.246373)\n",
      "(210, 18.345329)\n",
      "(220, 18.599167)\n",
      "(230, 16.347073)\n",
      "(240, 13.496849)\n",
      "(250, 14.923004)\n",
      "(260, 14.805618)\n",
      "(270, 11.275234)\n",
      "(280, 13.642647)\n",
      "(290, 13.484673)\n",
      "(300, 11.546764)\n",
      "(310, 13.374149)\n",
      "(320, 11.517575)\n",
      "(330, 9.9248371)\n",
      "(340, 9.0860825)\n",
      "(350, 8.1061897)\n",
      "(360, 13.363266)\n",
      "(370, 11.385953)\n",
      "(380, 10.797528)\n",
      "(390, 7.3658991)\n",
      "(400, 8.1073704)\n",
      "(410, 9.8167534)\n",
      "(420, 9.179821)\n",
      "(430, 10.120081)\n",
      "(440, 8.4916668)\n",
      "(450, 5.4830599)\n",
      "(460, 5.6911402)\n",
      "(470, 4.7822647)\n",
      "(480, 6.0111847)\n",
      "(490, 4.927897)\n"
     ]
    }
   ],
   "source": [
    "dh = dataset.DataHandler(image_size=height, mode='standard')\n",
    "with tf.Session() as sess:\n",
    "    init = tf.initialize_all_variables()\n",
    "    sess.run(init)\n",
    "    \n",
    "    for step in np.arange(500):\n",
    "        images_, thetas_, labels_ = get_batch(dh, batch_size, height, width, filter_size)\n",
    "            \n",
    "        _, batch_loss_, predictions_, filters_ = \\\n",
    "            sess.run([train_op, batch_loss, predictions, filters],\n",
    "                     feed_dict={images: images_, thetas: thetas_, labels: labels_})\n",
    "            \n",
    "        if step % 10 == 0:\n",
    "            print((step, batch_loss_))"
   ]
  },
  {
   "cell_type": "code",
   "execution_count": 5,
   "metadata": {
    "collapsed": false
   },
   "outputs": [
    {
     "name": "stdout",
     "output_type": "stream",
     "text": [
      "('theta: ', 149.5930971306114)\n"
     ]
    },
    {
     "data": {
      "image/png": "[encoded data removed]",
      "text/plain": [
       "<matplotlib.figure.Figure at 0x7f7a8dac0c50>"
      ]
     },
     "metadata": {},
     "output_type": "display_data"
    },
    {
     "data": {
      "image/png": "[encoded data removed]",
      "text/plain": [
       "<matplotlib.figure.Figure at 0x7f7a64096410>"
      ]
     },
     "metadata": {},
     "output_type": "display_data"
    }
   ],
   "source": [
    "batch_num = 0 # which sample of the batch to visualize\n",
    "\n",
    "# print the orientation theta\n",
    "print('theta: ', thetas_[batch_num].squeeze() / (2*np.pi)*360)\n",
    "\n",
    "# show an input and reconstructed image\n",
    "plt.subplot(1,3,1)\n",
    "plt.imshow(images_[batch_num].reshape(height, width), interpolation=\"nearest\", cmap=\"gray\")\n",
    "# plt.colorbar()\n",
    "plt.subplot(1,3,2)\n",
    "plt.imshow(labels_[batch_num].reshape(height, width), interpolation=\"nearest\", cmap=\"gray\")\n",
    "# plt.colorbar()\n",
    "plt.subplot(1,3,3)\n",
    "plt.imshow(predictions_[batch_num].reshape(height, width), interpolation=\"nearest\", cmap=\"gray\")\n",
    "# plt.colorbar()\n",
    "plt.show()\n",
    "\n",
    "# show a dynamically generated filter\n",
    "plt.imshow(filters_[batch_num,:,:,:].reshape(filter_size, filter_size), interpolation=\"nearest\")\n",
    "plt.colorbar()\n",
    "plt.show()"
   ]
  },
  {
   "cell_type": "code",
   "execution_count": null,
   "metadata": {
    "collapsed": true
   },
   "outputs": [],
   "source": []
  },
  {
   "cell_type": "code",
   "execution_count": null,
   "metadata": {
    "collapsed": true
   },
   "outputs": [],
   "source": []
  }
 ],
 "metadata": {
  "anaconda-cloud": {},
  "kernelspec": {
   "display_name": "Python 2",
   "language": "python",
   "name": "python2"
  },
  "language_info": {
   "codemirror_mode": {
    "name": "ipython",
    "version": 2
   },
   "file_extension": ".py",
   "mimetype": "text/x-python",
   "name": "python",
   "nbconvert_exporter": "python",
   "pygments_lexer": "ipython2",
   "version": "2.7.12"
  }
 },
 "nbformat": 4,
 "nbformat_minor": 1
}
